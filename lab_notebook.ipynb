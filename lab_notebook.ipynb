{
 "cells": [
  {
   "cell_type": "code",
   "execution_count": null,
   "metadata": {},
   "outputs": [],
   "source": []
  },
  {
   "cell_type": "markdown",
   "metadata": {},
   "source": [
    "# 0. Load Data"
   ]
  },
  {
   "cell_type": "markdown",
   "metadata": {},
   "source": [
    "SRX351237_calculus_sra_data.fastq – dental calculus (sample SRX351237) as our experimental sample\n",
    "SRX351242_bone_sra_data.fastq – tooth root (sample SRX351242) as a proxy for an environmental control"
   ]
  },
  {
   "cell_type": "code",
   "execution_count": null,
   "metadata": {},
   "outputs": [],
   "source": [
    "!wget -O data/SRX351237_calculus_sra_data.fastq https://ndownloader.figshare.com/files/22344444\n",
    "!wget -O data/SRX351242_bone_sra_data.fastq https://ndownloader.figshare.com/files/22344441"
   ]
  },
  {
   "cell_type": "markdown",
   "metadata": {},
   "source": [
    "# Part 1. Amplicon sequencing"
   ]
  },
  {
   "cell_type": "markdown",
   "metadata": {},
   "source": [
    "## Inporting data\n",
    "\n",
    "We've downloaded manifest file for Qiime2 and change path to the data in it"
   ]
  },
  {
   "cell_type": "markdown",
   "metadata": {},
   "source": [
    "Import data to Qiime2\n",
    "\n",
    "`qiime tools import --type 'SampleData[SequencesWithQuality]' --input-path manifest.tsv --output-path data/sequences.qza --input-format SingleEndFastqManifestPhred33V2`\n",
    "\n",
    "\n",
    "Check correctness of QIIME artifact with qiime validate:\n",
    "\n",
    "`qiime tools validate data/sequences.qza`\n",
    "\n",
    "Output:\n",
    "\n",
    "`Result data/sequences.qza appears to be valid at level=max.`"
   ]
  },
  {
   "cell_type": "markdown",
   "metadata": {},
   "source": [
    "## Summary of the distribution of sequence qualities\n",
    "\n",
    "`qiime demux summarize   --i-data data/sequences.qza   --o-visualization data/sequences.qzv`\n",
    "\n",
    "Visualise it with: https://view.qiime2.org/\n",
    "\n",
    "Result:\n",
    "\n",
    "<img src=\"img/1.png\">\n",
    "\n",
    "<img src=\"img/2.png\">"
   ]
  },
  {
   "cell_type": "markdown",
   "metadata": {},
   "source": [
    "## Feature table construction\n",
    "\n",
    "Download metadata table:\n",
    "\n",
    "`wget -O data/sample-metadata.tsv https://ndownloader.figshare.com/files/22346028`\n",
    "\n",
    "Strip out barcode and filter chimeric sequences. We use DADA2 pipeline. \n",
    "\n",
    "We choose value for parameter `--p-trim-left` as `32` based on length of the artificial sequences (barcode +primer)\n",
    "\n",
    "and value for parameter `--p-trunc-len` as `148` based on Interactive Quality Plot tab in the sequences.qzv\n",
    "\n",
    "`qiime dada2 denoise-single --i-demultiplexed-seqs data/sequences.qza --p-trim-left 32 --p-trunc-len 148 --o-representative-sequences data/rep-seqs.qza --o-table data/table.qza --o-denoising-stats data/stats.qza`\n",
    "\n",
    "Check how many reads are passed the filter and were clustered:\n",
    "\n",
    "`qiime metadata tabulate --m-input-file data/stats.qza --o-visualization data/stats.qzv`\n",
    "\n",
    "Result:\n",
    "\n",
    "<img src=\"img/4.png\">"
   ]
  },
  {
   "cell_type": "markdown",
   "metadata": {},
   "source": [
    "## FeatureTable and FeatureData summaries\n",
    "\n",
    "Create visual summaries of the data - how many sequences are associated with each sample and with each feature, etc.\n",
    "\n",
    "`qiime feature-table summarize --i-table data/table.qza --o-visualization data/table.qzv --m-sample-metadata-file data/sample-metadata.tsv`\n",
    "\n",
    "Map feature IDs to sequences\n",
    "\n",
    "`qiime feature-table tabulate-seqs --i-data data/rep-seqs.qza --o-visualization data/rep-seqs.qzv`"
   ]
  },
  {
   "cell_type": "markdown",
   "metadata": {},
   "source": [
    "## Taxonomic analysis\n",
    "\n",
    "Download database:\n",
    "\n",
    "`wget -P data/ https://data.qiime2.org/2021.2/common/gg-13-8-99-nb-classifier.qza`\n",
    "\n",
    "Use classifier:\n",
    "\n",
    "`qiime feature-classifier classify-sklearn --i-classifier data/gg-13-8-99-nb-classifier.qza --i-reads data/rep-seqs.qza --o-classification data/taxonomy.qza`\n",
    "\n",
    "Visualise:\n",
    "\n",
    "`qiime metadata tabulate --m-input-file data/taxonomy.qza --o-visualization data/taxonomy.qzv`\n",
    "\n",
    "View the taxonomic composition of our samples with interactive bar plots\n",
    "\n",
    "```\n",
    "qiime taxa barplot \\\n",
    "  --i-table data/table.qza \\\n",
    "  --i-taxonomy data/taxonomy.qza \\\n",
    "  --m-metadata-file data/sample-metadata.tsv \\\n",
    "  --o-visualization data/taxa-bar-plots.qzv\n",
    "```\n",
    "\n",
    "`qiime tools view data/taxa-bar-plots.qzv`\n",
    "\n",
    "Result:\n",
    "\n",
    "<img src=\"img/level-7-bars.svg\">"
   ]
  },
  {
   "cell_type": "markdown",
   "metadata": {},
   "source": [
    "# Part 2. Shotgun sequencing"
   ]
  },
  {
   "cell_type": "markdown",
   "metadata": {},
   "source": [
    "## Shotgun sequence data profiling\n",
    "\n",
    "align our sequencing reads to the microbiota database:\n",
    "\n",
    "`MetaPhlAn2/metaphlan2.py data/G12_assembly.fna.gz --input_type fasta --nproc 4 > data/metaphlan_output.txt`\n",
    "\n",
    "Visualuse with Pavian:\n",
    "\n",
    "<img src=\"img/5.png\">"
   ]
  },
  {
   "cell_type": "markdown",
   "metadata": {},
   "source": [
    "## Comparison with samples from HMP\n",
    "\n",
    "loop over the entire sample set:\n",
    "\n",
    "```\n",
    "for f in *.fasta.gz\n",
    "do\n",
    "     MetaPhlAn2/metaphlan2.py $f --input_type fasta --nproc 4 > ${f%.fasta.gz}_profile.txt\n",
    "done\n",
    "```\n",
    "\n",
    "Merge metaphlan tables:\n",
    "\n",
    "`MetaPhlAn2/merge_metaphlan_tables.py data/metaphlan_output.txt data/*profile.txt > data/metaphlan_merged.txt`\n",
    "\n",
    "Alighn:\n",
    "```\n",
    "bwa index data/T_forsythia_genome.fasta \n",
    "bwa mem -t 8 data/T_forsythia_genome.fasta data/G12_assembly.fna | samtools view -Sb | \\\n",
    "    samtools sort -@ 8 > data/G12_aligned_bwamem.\n",
    " ```"
   ]
  },
  {
   "cell_type": "code",
   "execution_count": null,
   "metadata": {},
   "outputs": [],
   "source": []
  }
 ],
 "metadata": {
  "kernelspec": {
   "display_name": "Python 3",
   "language": "python",
   "name": "python3"
  },
  "language_info": {
   "codemirror_mode": {
    "name": "ipython",
    "version": 3
   },
   "file_extension": ".py",
   "mimetype": "text/x-python",
   "name": "python",
   "nbconvert_exporter": "python",
   "pygments_lexer": "ipython3",
   "version": "3.6.13"
  }
 },
 "nbformat": 4,
 "nbformat_minor": 1
}